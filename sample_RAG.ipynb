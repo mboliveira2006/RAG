{
 "cells": [
  {
   "cell_type": "code",
   "execution_count": null,
   "metadata": {},
   "outputs": [],
   "source": [
    "# !pip install -qU docarray\n",
    "# !pip install -qU langchain\n",
    "# !pip install -qU pypdf"
   ]
  },
  {
   "cell_type": "code",
   "execution_count": 1,
   "metadata": {},
   "outputs": [],
   "source": [
    "import os\n",
    "\n",
    "from langchain.chains import RetrievalQA\n",
    "\n",
    "from langchain_community.llms import Ollama\n",
    "from langchain_community.embeddings import OllamaEmbeddings\n",
    "# from langchain.schema.document import Document\n",
    "from langchain_community.vectorstores import DocArrayInMemorySearch\n",
    "from langchain.text_splitter import RecursiveCharacterTextSplitter\n",
    "\n",
    "from langchain_community.document_loaders import PyPDFDirectoryLoader"
   ]
  },
  {
   "cell_type": "code",
   "execution_count": 2,
   "metadata": {},
   "outputs": [],
   "source": [
    "#nome do modelo LLM\n",
    "llm_model_name = os.environ.get(\"MODEL\", \"gemma\")\n",
    "\n",
    "#nome do modelo de embedding\n",
    "embeddings_model_name = os.environ.get(\"EMBEDDINGS_MODEL_NAME\",\n",
    "                                       \"nomic-embed-text\")\n",
    "\n",
    " #numero de chunks que o modelo vai retornar na consulta ao vectordb\n",
    "target_source_chunks = int(os.environ.get('TARGET_SOURCE_CHUNKS',4))\n",
    "\n",
    "#url do modelo LLM, que pode ser local ou em um servidor\n",
    "base_url='http://localhost:11434'\n",
    "\n",
    "#tamanho dos chunks, nesse caso até 400 caracteres\n",
    "chunk_size = 400 \n",
    "\n",
    "#overlap entre os chunks, tentar reduzir a perda de contexto entre os chunks\n",
    "chunk_overlap = 150\n",
    "\n",
    "#diretório onde estão os arquivos para serem importados\n",
    "source_directory = 'documento/' "
   ]
  },
  {
   "cell_type": "code",
   "execution_count": 3,
   "metadata": {},
   "outputs": [
    {
     "name": "stdout",
     "output_type": "stream",
     "text": [
      "['documento/manual_lanternaBSU30.pdf', 'documento/manual_microondas_magico.pdf']\n"
     ]
    }
   ],
   "source": [
    "file_list = []\n",
    "files = os.listdir(source_directory)\n",
    "\n",
    "for arquivo in files:\n",
    "    caminho_completo = os.path.join(source_directory, arquivo)\n",
    "    if os.path.isfile(caminho_completo):\n",
    "        file_list.append(caminho_completo)\n",
    "\n",
    "print(file_list)\n"
   ]
  },
  {
   "cell_type": "code",
   "execution_count": 4,
   "metadata": {},
   "outputs": [
    {
     "name": "stdout",
     "output_type": "stream",
     "text": [
      "Total de páginas importadas: 9\n"
     ]
    }
   ],
   "source": [
    "loader = PyPDFDirectoryLoader(source_directory)\n",
    "docs = loader.load()\n",
    "print('Total de páginas importadas:', len(docs))"
   ]
  },
  {
   "cell_type": "code",
   "execution_count": 5,
   "metadata": {},
   "outputs": [
    {
     "data": {
      "text/plain": [
       "Document(page_content='\\uf0b7 Com a lanterna ligada, pressione rapidamente o botão liga/desliga para alternar \\nentre as funções: luz, luz piscante, sirene. \\n\\uf0b7 Cada pressão rápida do botão avança para a próxima função. \\n \\n \\n3.3 Ajustar o Foco  \\n\\uf0b7 Para ajustar o foco do feixe de luz, gire a cabeça da lanterna para frente (zoom) \\nou para trás (deszoom). \\n3.4 Ativar o Laser Verde  \\n\\uf0b7 Para ativar o laser verde, pressione e segure o botão lateral por 2 segundos. \\n\\uf0b7 Solte o botão para desativar o laser verde. \\n4. Segurança  \\n\\uf0b7 Não direcione o laser verde diretamente para os olhos.  \\n\\uf0b7 Mantenha a lanterna fora do alcance de crianças.  \\n\\uf0b7 Não utilize a lanterna em ambientes inflamáveis.  \\n\\uf0b7 Remova as pilhas da lanterna se não for usá-la por um longo período.  \\n5. Manutenção e Cuidados  \\n\\uf0b7 Limpe a lente da lanterna com um pano macio e seco regularmente. \\n\\uf0b7 Não use produtos químicos ou abrasivos para limpar a lanterna. \\n\\uf0b7 Armazene a lanterna em local seco e fresco quando não estiver em uso. \\n6. Solução de Problemas  \\nProblema:  A lanterna não liga. \\nSolução: \\n\\uf0b7 Verifique se as pilhas estão instaladas corretamente. \\n\\uf0b7 Substitua as pilhas por novas. \\nProblema:  A luz da lanterna está fraca. \\nSolução: \\n\\uf0b7 Limpe a lente da lanterna. \\n\\uf0b7 Substitua as pilhas por novas. \\nProblema:  O laser verde não funciona. \\nSolução: ', metadata={'source': 'documento\\\\manual_lanternaBSU30.pdf', 'page': 3})"
      ]
     },
     "execution_count": 5,
     "metadata": {},
     "output_type": "execute_result"
    }
   ],
   "source": [
    "docs[3]"
   ]
  },
  {
   "cell_type": "code",
   "execution_count": 6,
   "metadata": {},
   "outputs": [],
   "source": [
    "embeddings = OllamaEmbeddings(base_url=base_url,\n",
    "                              model=embeddings_model_name)"
   ]
  },
  {
   "cell_type": "code",
   "execution_count": null,
   "metadata": {},
   "outputs": [],
   "source": [
    "#exemplo de como os dados são armazenados no vector db\n",
    "result = embeddings.embed_query('Olá! Tudo bem com você?')\n",
    "result[:5]"
   ]
  },
  {
   "cell_type": "code",
   "execution_count": 7,
   "metadata": {},
   "outputs": [
    {
     "name": "stdout",
     "output_type": "stream",
     "text": [
      "Total de chunks: 29\n"
     ]
    }
   ],
   "source": [
    "text_splitter = RecursiveCharacterTextSplitter(chunk_size=chunk_size,\n",
    "                                               chunk_overlap=chunk_overlap)\n",
    "texts = text_splitter.split_documents(docs)\n",
    "print('Total de chunks:', len(texts))"
   ]
  },
  {
   "cell_type": "code",
   "execution_count": null,
   "metadata": {},
   "outputs": [],
   "source": [
    "texts[:3]"
   ]
  },
  {
   "cell_type": "code",
   "execution_count": 8,
   "metadata": {},
   "outputs": [
    {
     "name": "stderr",
     "output_type": "stream",
     "text": [
      "d:\\DADOS\\Linkedin\\RAG\\.venv\\lib\\site-packages\\pydantic\\_migration.py:283: UserWarning: `pydantic.error_wrappers:ValidationError` has been moved to `pydantic:ValidationError`.\n",
      "  warnings.warn(f'`{import_path}` has been moved to `{new_location}`.')\n"
     ]
    }
   ],
   "source": [
    "db = DocArrayInMemorySearch.from_documents(texts,\n",
    "                                           embeddings\n",
    "                                           )"
   ]
  },
  {
   "cell_type": "code",
   "execution_count": 11,
   "metadata": {},
   "outputs": [],
   "source": [
    "llm = Ollama(base_url=base_url,\n",
    "                 model=llm_model_name,\n",
    "                 temperature = 0.2,\n",
    "                 )"
   ]
  },
  {
   "cell_type": "code",
   "execution_count": 12,
   "metadata": {},
   "outputs": [],
   "source": [
    "qa = RetrievalQA.from_chain_type(llm=llm,\n",
    "                                 chain_type=\"stuff\",\n",
    "                                 retriever=db.as_retriever(search_kwargs={\"k\": target_source_chunks}),\n",
    "                                 return_source_documents=True,verbose=False,\n",
    "                                 )"
   ]
  },
  {
   "cell_type": "code",
   "execution_count": 9,
   "metadata": {},
   "outputs": [],
   "source": [
    "query = \"Minha lanterna não liga o que pode ser?\""
   ]
  },
  {
   "cell_type": "code",
   "execution_count": null,
   "metadata": {},
   "outputs": [],
   "source": [
    "#fazer a pesquisa no vector db com base na query\n",
    "found_docs = db.similarity_search_with_score(query, k=target_source_chunks)\n",
    "for document, score in found_docs:\n",
    "    print(document.page_content)\n",
    "    print(f\"\\nScore: {score}\")\n",
    "    print(\"Arquivo:\",document.metadata[\"source\"])\n",
    "    print(\"Página:\",document.metadata[\"page\"],\"\\n\\n\")"
   ]
  },
  {
   "cell_type": "code",
   "execution_count": 14,
   "metadata": {},
   "outputs": [
    {
     "name": "stdout",
     "output_type": "stream",
     "text": [
      "\n",
      "\n",
      "> Question:\n",
      "Minha lanterna não liga o que pode ser?\n",
      "A lanterna não liga devido a problemas com as pilhas. Verifique se as pilhas estão instaladas corretamente ou se precisam ser substituídas por novas.\n",
      "\n",
      "\n",
      ">\n",
      "\n",
      "> documento\\manual_lanternaBSU30.pdf:\n",
      " Com a lanterna ligada, pressione rapidamente o botão liga/desliga para alternar \n",
      "entre as funções: luz, luz piscante, sirene. \n",
      " Cada pressão rápida do botão avança para a próxima função. \n",
      " \n",
      " \n",
      "3.3 Ajustar o Foco  \n",
      " Para ajustar o foco do feixe de luz, gire a cabeça da lanterna para frente (zoom) \n",
      "ou para trás (deszoom). \n",
      "3.4 Ativar o Laser Verde\n",
      "\n",
      "> documento\\manual_lanternaBSU30.pdf:\n",
      "5. Manutenção e Cuidados  \n",
      " Limpe a lente da lanterna com um pano macio e seco regularmente. \n",
      " Não use produtos químicos ou abrasivos para limpar a lanterna. \n",
      " Armazene a lanterna em local seco e fresco quando não estiver em uso. \n",
      "6. Solução de Problemas  \n",
      "Problema:  A lanterna não liga. \n",
      "Solução: \n",
      " Verifique se as pilhas estão instaladas corretamente. \n",
      " Substitua as pilhas por novas.\n",
      "\n",
      "> documento\\manual_lanternaBSU30.pdf:\n",
      " Para ajustar o foco do feixe de luz, gire a cabeça da lanterna para frente (zoom) \n",
      "ou para trás (deszoom). \n",
      "3.4 Ativar o Laser Verde  \n",
      " Para ativar o laser verde, pressione e segure o botão lateral por 2 segundos. \n",
      " Solte o botão para desativar o laser verde. \n",
      "4. Segurança  \n",
      " Não direcione o laser verde diretamente para os olhos.  \n",
      " Mantenha a lanterna fora do alcance de crianças.\n",
      "\n",
      "> documento\\manual_lanternaBSU30.pdf:\n",
      "Problema:  A lanterna não liga. \n",
      "Solução: \n",
      " Verifique se as pilhas estão instaladas corretamente. \n",
      " Substitua as pilhas por novas. \n",
      "Problema:  A luz da lanterna está fraca. \n",
      "Solução: \n",
      " Limpe a lente da lanterna. \n",
      " Substitua as pilhas por novas. \n",
      "Problema:  O laser verde não funciona. \n",
      "Solução:\n"
     ]
    }
   ],
   "source": [
    "res = qa.invoke(query)\n",
    "answer, docs = res['result'], res['source_documents']\n",
    "\n",
    "\n",
    "print(\"\\n\\n> Question:\")\n",
    "print(query)\n",
    "print(answer)\n",
    "print(\"\\n\\n>\")\n",
    "# exibe o trecho, nome do arquivo e a página do texto usado para a auxiliar na resposta\n",
    "for document in docs:\n",
    "    print(\"\\n> \" + document.metadata[\"source\"] + \":\")\n",
    "    print( document.page_content)\n",
    "    \n"
   ]
  }
 ],
 "metadata": {
  "kernelspec": {
   "display_name": ".venv",
   "language": "python",
   "name": "python3"
  },
  "language_info": {
   "codemirror_mode": {
    "name": "ipython",
    "version": 3
   },
   "file_extension": ".py",
   "mimetype": "text/x-python",
   "name": "python",
   "nbconvert_exporter": "python",
   "pygments_lexer": "ipython3",
   "version": "3.10.11"
  }
 },
 "nbformat": 4,
 "nbformat_minor": 2
}
